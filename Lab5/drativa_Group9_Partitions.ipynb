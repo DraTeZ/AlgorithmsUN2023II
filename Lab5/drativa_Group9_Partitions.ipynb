{
  "cells": [
    {
      "cell_type": "markdown",
      "metadata": {
        "id": "138HHQxvs_U7"
      },
      "source": [
        "# **Names:** David A. Rativa G. - Andrés F. Patiño C. - Byron D. Giraldo C.\n",
        "# **UN Id:** drativa - anpatino - bygiraldoc\n",
        "# **List number:** 25 - 9 - 19\n",
        "# **Group :** 9"
      ]
    },
    {
      "cell_type": "markdown",
      "metadata": {
        "id": "rdu7PcWttfnz"
      },
      "source": [
        "# Write a code that produces the the ** Bell numbers** count the possible partitions of a set.\n",
        "\n",
        "**Hint**:\n",
        ". Output the n-th Bell Number - [stackexchange](https://codegolf.stackexchange.com/questions/132379/output-the-n-th-bell-number)"
      ]
    },
    {
      "cell_type": "code",
      "execution_count": null,
      "metadata": {
        "colab": {
          "base_uri": "https://localhost:8080/"
        },
        "id": "OeC0654QrLvw",
        "outputId": "da7d2c63-b06e-4258-9f20-cd5e370c8493"
      },
      "outputs": [
        {
          "output_type": "stream",
          "name": "stdout",
          "text": [
            "Ingrese un valor para n: 65\n",
            "El 65-ésimo número de Bell es 3633778785457899322415257682767737441410036994560435982365219287372\n"
          ]
        }
      ],
      "source": [
        "def bell_number(n):\n",
        "  # Crea una matriz llamada bell. Esta matriz se utiliza para almacenar valores intermedios al calcular los números de Bell. Tiene dimensiones (n+1) para almacenar valores para cada combinación de i y j\n",
        "    bell = [[0 for x in range(n+1)] for x in range(n+1)]\n",
        "    bell[0][0] = 1\n",
        "    for i in range(1, n+1):\n",
        "        bell[i][0] = bell[i-1][i-1]\n",
        "        for j in range(1, i+1):\n",
        "   # calcula el valor de la celda actual que es el valor de la celda diagonalmente arriba y a la izquierda y bell[i][j-1] es el valor de la celda inmediatamente a la izquierda.\n",
        "            bell[i][j] = bell[i-1][j-1] + bell[i][j-1]\n",
        "    return bell[n][0]\n",
        "\n",
        "n = int(input(\"Ingrese un valor para n: \"))\n",
        "result = bell_number(n)\n",
        "print(f\"El {n}-ésimo número de Bell es {result}\")\n"
      ]
    },
    {
      "cell_type": "markdown",
      "metadata": {
        "id": "vSafufOkvDht"
      },
      "source": [
        "###Write a code that produces list of all partititions of the set of $[n]=\\{ 1,2,3,4\\cdots , n-1, n\\}$ with $0 \\le n \\le 65$ and also list all the partitions for which the sum of element of the partition is the same constant for all."
      ]
    },
    {
      "cell_type": "code",
      "execution_count": null,
      "metadata": {
        "id": "bahIxhWdtfJG",
        "colab": {
          "base_uri": "https://localhost:8080/"
        },
        "outputId": "61fe9948-41e7-4925-ac0e-f0dde422d861"
      },
      "outputs": [
        {
          "output_type": "stream",
          "name": "stdout",
          "text": [
            "Ingrese el n deseado: 3\n",
            "{ 1 2 3 } \n",
            "{ 1 2 } { 3 } \n",
            "{ 1 3 } { 2 } \n",
            "{ 1 } { 2 3 } \n",
            "{ 1 } { 2 } { 3 } \n"
          ]
        }
      ],
      "source": [
        "def print_partition(ans):\n",
        "    for i in ans:\n",
        "        print(\"{\", end=\" \")\n",
        "        for element in i:\n",
        "            print(element, end=\" \")\n",
        "        print(\"}\", end=\" \")\n",
        "    print()\n",
        "\n",
        "def partition_set(set, index, ans):\n",
        "    if index == len(set):\n",
        "        print_partition(ans)\n",
        "        return\n",
        "\n",
        "\n",
        "    for i in range(len(ans)):\n",
        "        ans[i].append(set[index])\n",
        "        partition_set(set, index + 1, ans)\n",
        "        ans[i].pop()\n",
        "\n",
        "    ans.append([set[index]])\n",
        "    partition_set(set, index + 1, ans)\n",
        "    ans.pop()\n",
        "\n",
        "\n",
        "def all_partitions(set):\n",
        "    ans = []\n",
        "    partition_set(set, 0, ans)\n",
        "\n",
        "if __name__ == \"__main__\":\n",
        "    n = int(input(\"Ingrese el n deseado: \"))\n",
        "\n",
        "    set = list(range(1, n + 1))\n",
        "\n",
        "    all_partitions(set)\n"
      ]
    },
    {
      "cell_type": "markdown",
      "metadata": {
        "id": "nt9ekZ7kzjPr"
      },
      "source": [
        "# Write a code that produces the partition with all the parts having same sum value, identify the formula for $n < 16$."
      ]
    },
    {
      "cell_type": "code",
      "execution_count": null,
      "metadata": {
        "id": "gyfW62E7s-8d"
      },
      "outputs": [],
      "source": [
        "def constant_partition(n):\n",
        "  b =1\n",
        "  # your code goes here\n",
        "  return b"
      ]
    },
    {
      "cell_type": "code",
      "source": [
        "def constant_partition(n, k=None):\n",
        "    if k is None:\n",
        "        k = n\n",
        "\n",
        "    if n == 0:\n",
        "        return [[]]\n",
        "    if n < 0 or k == 0:\n",
        "        return []\n",
        "\n",
        "    partitions = []\n",
        "    for i in range(1, min(n, k) + 1):\n",
        "        for sub_partition in constant_partition(n - i, i):\n",
        "            partitions.append([i] + sub_partition)\n",
        "\n",
        "    return partitions\n",
        "\n",
        "def find_partition_with_same_sum(n):\n",
        "    partitions = constant_partition(n)\n",
        "    equal_sum_partitions = [p for p in partitions if len(set(p)) == 1]\n",
        "    return equal_sum_partitions\n",
        "\n",
        "n = 15  # Change this value for different 'n'\n",
        "result = find_partition_with_same_sum(n)\n",
        "print(f\"Partitions of {n} with equal sum: {result}\")\n"
      ],
      "metadata": {
        "colab": {
          "base_uri": "https://localhost:8080/"
        },
        "id": "WZF4xIQg4-it",
        "outputId": "d032c273-28e7-4620-a5eb-749586a9bf14"
      },
      "execution_count": null,
      "outputs": [
        {
          "output_type": "stream",
          "name": "stdout",
          "text": [
            "Partitions of 15 with equal sum: [[1, 1, 1, 1, 1, 1, 1, 1, 1, 1, 1, 1, 1, 1, 1], [3, 3, 3, 3, 3], [5, 5, 5], [15]]\n"
          ]
        }
      ]
    },
    {
      "cell_type": "code",
      "execution_count": null,
      "metadata": {
        "id": "oeaYwUFFs78I"
      },
      "outputs": [],
      "source": []
    }
  ],
  "metadata": {
    "colab": {
      "provenance": []
    },
    "kernelspec": {
      "display_name": "Python 3",
      "name": "python3"
    },
    "language_info": {
      "name": "python"
    }
  },
  "nbformat": 4,
  "nbformat_minor": 0
}